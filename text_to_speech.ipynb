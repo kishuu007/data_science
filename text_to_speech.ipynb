{
  "nbformat": 4,
  "nbformat_minor": 0,
  "metadata": {
    "colab": {
      "name": "text to speech.ipynb",
      "provenance": [],
      "collapsed_sections": [],
      "authorship_tag": "ABX9TyP/3ve5w0JIIZBCDA6fscxj",
      "include_colab_link": true
    },
    "kernelspec": {
      "name": "python3",
      "display_name": "Python 3"
    }
  },
  "cells": [
    {
      "cell_type": "markdown",
      "metadata": {
        "id": "view-in-github",
        "colab_type": "text"
      },
      "source": [
        "<a href=\"https://colab.research.google.com/github/kishuu007/data_science/blob/master/text_to_speech.ipynb\" target=\"_parent\"><img src=\"https://colab.research.google.com/assets/colab-badge.svg\" alt=\"Open In Colab\"/></a>"
      ]
    },
    {
      "cell_type": "code",
      "metadata": {
        "colab": {
          "base_uri": "https://localhost:8080/"
        },
        "id": "bwNR371EkEsD",
        "outputId": "853f49eb-3ba3-4641-95e6-bf11cc53ac51"
      },
      "source": [
        "pip install gTTS"
      ],
      "execution_count": 1,
      "outputs": [
        {
          "output_type": "stream",
          "text": [
            "Requirement already satisfied: gTTS in /usr/local/lib/python3.6/dist-packages (2.2.2)\n",
            "Requirement already satisfied: six in /usr/local/lib/python3.6/dist-packages (from gTTS) (1.15.0)\n",
            "Requirement already satisfied: click in /usr/local/lib/python3.6/dist-packages (from gTTS) (7.1.2)\n",
            "Requirement already satisfied: requests in /usr/local/lib/python3.6/dist-packages (from gTTS) (2.23.0)\n",
            "Requirement already satisfied: certifi>=2017.4.17 in /usr/local/lib/python3.6/dist-packages (from requests->gTTS) (2020.12.5)\n",
            "Requirement already satisfied: idna<3,>=2.5 in /usr/local/lib/python3.6/dist-packages (from requests->gTTS) (2.10)\n",
            "Requirement already satisfied: urllib3!=1.25.0,!=1.25.1,<1.26,>=1.21.1 in /usr/local/lib/python3.6/dist-packages (from requests->gTTS) (1.24.3)\n",
            "Requirement already satisfied: chardet<4,>=3.0.2 in /usr/local/lib/python3.6/dist-packages (from requests->gTTS) (3.0.4)\n"
          ],
          "name": "stdout"
        }
      ]
    },
    {
      "cell_type": "code",
      "metadata": {
        "id": "qijs4YCxkcCy"
      },
      "source": [
        "from gtts import gTTS # import google text to speech"
      ],
      "execution_count": 2,
      "outputs": []
    },
    {
      "cell_type": "code",
      "metadata": {
        "id": "6r3VUPvwlczc"
      },
      "source": [
        "from IPython.display import Audio # import audio method from Ipythons dispaly"
      ],
      "execution_count": 3,
      "outputs": []
    },
    {
      "cell_type": "code",
      "metadata": {
        "id": "wPs-av15oamd"
      },
      "source": [
        "gs=gTTS('cool') # provide the string to convert to speech"
      ],
      "execution_count": 4,
      "outputs": []
    },
    {
      "cell_type": "markdown",
      "metadata": {
        "id": "HqW5i3Fhw7wm"
      },
      "source": [
        "# New Section"
      ]
    },
    {
      "cell_type": "code",
      "metadata": {
        "id": "j4Kpr5e_xUGb"
      },
      "source": [
        "from google.colab import drive\n",
        "drive.mount('/content/drive')"
      ],
      "execution_count": null,
      "outputs": []
    },
    {
      "cell_type": "code",
      "metadata": {
        "id": "csAs5LAXomYJ"
      },
      "source": [
        "gs.save('p.wav') #wav file--saves the string converted to speech as a .wav file"
      ],
      "execution_count": 5,
      "outputs": []
    },
    {
      "cell_type": "code",
      "metadata": {
        "id": "VYEwqdHLo8bZ"
      },
      "source": [
        "krish='p.wav'"
      ],
      "execution_count": 6,
      "outputs": []
    },
    {
      "cell_type": "code",
      "metadata": {
        "colab": {
          "base_uri": "https://localhost:8080/",
          "height": 75
        },
        "id": "xtqlOTi0pEfv",
        "outputId": "fb89bdc4-1a10-455e-c074-7a60c52543d0"
      },
      "source": [
        "Audio(krish,autoplay=True)"
      ],
      "execution_count": 7,
      "outputs": [
        {
          "output_type": "execute_result",
          "data": {
            "text/html": [
              "\n",
              "                <audio controls=\"controls\" autoplay=\"autoplay\">\n",
              "                    <source src=\"data:audio/x-wav;base64,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\" type=\"audio/x-wav\" />\n",
              "                    Your browser does not support the audio element.\n",
              "                </audio>\n",
              "              "
            ],
            "text/plain": [
              "<IPython.lib.display.Audio object>"
            ]
          },
          "metadata": {
            "tags": []
          },
          "execution_count": 7
        }
      ]
    },
    {
      "cell_type": "code",
      "metadata": {
        "id": "cenM8yTZpLE9"
      },
      "source": [
        "def dp(cnu):\r\n",
        "  vam=gTTS(cnu)\r\n",
        "  vam.save('p.wav')\r\n",
        "  return Audio('p.wav',autoplay=True)"
      ],
      "execution_count": 8,
      "outputs": []
    },
    {
      "cell_type": "code",
      "metadata": {
        "colab": {
          "base_uri": "https://localhost:8080/",
          "height": 75
        },
        "id": "sQGtBFHDqW4B",
        "outputId": "6cb34429-8eb2-4a7e-ea68-0f0b6d01aef8"
      },
      "source": [
        "dp('i miss you')"
      ],
      "execution_count": 9,
      "outputs": [
        {
          "output_type": "execute_result",
          "data": {
            "text/html": [
              "\n",
              "                <audio controls=\"controls\" autoplay=\"autoplay\">\n",
              "                    <source src=\"data:audio/x-wav;base64,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\" type=\"audio/x-wav\" />\n",
              "                    Your browser does not support the audio element.\n",
              "                </audio>\n",
              "              "
            ],
            "text/plain": [
              "<IPython.lib.display.Audio object>"
            ]
          },
          "metadata": {
            "tags": []
          },
          "execution_count": 9
        }
      ]
    },
    {
      "cell_type": "code",
      "metadata": {
        "id": "r3vPzEDWqaxT"
      },
      "source": [
        "def paytm(amount):\r\n",
        "  total_string='paytm payment received '+ amount +' rupees'\r\n",
        "  gtts_string=gTTS(total_string)\r\n",
        "  gtts_string.save('p.wav')\r\n",
        "  return Audio('p.wav',autoplay=True)\r\n"
      ],
      "execution_count": 10,
      "outputs": []
    },
    {
      "cell_type": "code",
      "metadata": {
        "colab": {
          "base_uri": "https://localhost:8080/",
          "height": 75
        },
        "id": "mAkkO9CCsWTS",
        "outputId": "30234766-15b2-4b17-e58b-b52e78100a1c"
      },
      "source": [
        "paytm('145')"
      ],
      "execution_count": 11,
      "outputs": [
        {
          "output_type": "execute_result",
          "data": {
            "text/html": [
              "\n",
              "                <audio controls=\"controls\" autoplay=\"autoplay\">\n",
              "                    <source src=\"data:audio/x-wav;base64,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\" type=\"audio/x-wav\" />\n",
              "                    Your browser does not support the audio element.\n",
              "                </audio>\n",
              "              "
            ],
            "text/plain": [
              "<IPython.lib.display.Audio object>"
            ]
          },
          "metadata": {
            "tags": []
          },
          "execution_count": 11
        }
      ]
    },
    {
      "cell_type": "code",
      "metadata": {
        "id": "Bwfg_tkLsbsN"
      },
      "source": [
        "def airtel(no):\r\n",
        "  recharge=' airtel recharge of '+ no +' rupees is done'\r\n",
        "  gtts_airtel=gTTS(recharge)\r\n",
        "  gtts_airtel.save('p.wav')\r\n",
        "  return Audio('p.wav',autoplay=True)\r\n"
      ],
      "execution_count": 12,
      "outputs": []
    },
    {
      "cell_type": "code",
      "metadata": {
        "colab": {
          "base_uri": "https://localhost:8080/",
          "height": 75
        },
        "id": "9lqcyrdyuYbA",
        "outputId": "e7be53a1-fe3e-4fd5-c9ce-a917c8f75898"
      },
      "source": [
        "airtel('149')"
      ],
      "execution_count": 13,
      "outputs": [
        {
          "output_type": "execute_result",
          "data": {
            "text/html": [
              "\n",
              "                <audio controls=\"controls\" autoplay=\"autoplay\">\n",
              "                    <source src=\"data:audio/x-wav;base64,//NExAASqVH0AVgQAF0QCXvMIzKMteruX50ljDDCkpLG6SxzPP8MPIRtCE+QhCN/zn//Qk4AIJoRjgAATLghUGBIGBOfxP6wfeD7//lHawQOZQ5/BwEAwv1UTg5ghn6M//NExAgSYcqwAY9QACECuGb+aCoBupHgVy7EQ/IfPPeYsz57seToWJycd/BoHhIT4cCkZCw5/nuZsLYtk40IGH//MMJ/mHk5zQgA//0hiory5GkPlhbFfskD2RV3bNVk//NExBEVsZa0AdhIALRy3eTxSDv48tbmljH/6CGUoxV0ugxBFMUmzCMHhQGQNigPh0GO3JCbe+hskdvUnN/zMnD0yT7B0nPYYlN1zkjLPWBjrqJs+/xQ+Ez35dGlHjrG//NExA0U+YasAMPelF12lpQJ6Lb6JWy7rlSWz8tkTHxt1j1q0xn2KnXPGynT0TUJuJ8TYfzTFrFPHGqTsUbOoUKNv2xG3/i2/i1s/5tCfbNyrvbVXJILcsTnEwTzs0lq//NExAwVoY6cANYilE+ZV1G9drhb8P5fXGBs31/sasZ93BlXn/Xd+/r7jJKSP344EAgAxTIqCVIqZG5cDRxRz6BiWRiNrJ3rKLcyfq9bdbWoGZyd9KyOhQgbnVkhYNjo//NExAgT2QKYANZwcI9nc+1Q7C1s1q3BRgUONjq0hglF/dqyU/399Wff/e1MLGWT1jxp2lqRk0majKZ3IdC99rsWdl/rWW7Nv6tNT6fLUk413nXdKlIQNeyWiEdGSPpE//NExAsTkO6cANPwcJMg54RpjOqRHgWY9C5yrAKwdar1onxJ1RjMyKm1hVZ7HIpkzECDWEQ0fxhhYGHQa/G4IfFhEplnLcZngwp3//7X/3Lqd/vK7ZBIeJDI/efUxCs5//NExA8SUPKgANYecIyB2IZnpSgJUoZPfmnad6Zl/bs9Sz+GqaeKzxUNNFgV7xoOkTEfJMhuEqJ1dxczeUrbCzSY7////8WqdKtP4q3jpUPWq7eakegE2Ary39WrHXJa//NExBgSKRaUANZYcDNvPb12igbX65M2c8y7W169S4FpYKoNUgjAyHXdObrQNOOsWy+MOVbl4Jq76m1f/01nLH2XRYcNPaFWgDFQ+4ZiElQo45BodkszIad2oGlMtq4U//NExCIRWSJ8AVkwANnx5aq31Wf/ydYKl6sjDoyDBQkacSJEiSMnEtmUcEp2JTuDSjzgguUNCiTQM+BMUBR+wadCJiHXtsQ7HXdmAGFkzD7BRooIQjdWSPNwl2y70s1P//NExC8cmnJgAZowAHsOXScRm77qrmUjnZKXvYjLZmyPjW+zaf/+xmXMttY/82nO3lX9/7R73477tP/vzfW9NbWl015c+7iiFXBxdbDrULGVPslY17IGrk6Pp299lX/m//NExA8WOuLMAYYoAW8jSCnMJ+pz+Yv/8m6GqQ2HWekhKN5lLIAowUF8xUFRND779XD9BwkIB1SBMoSETEEjDashSKLu+TPb4kYys6ogsotB84GcbCO6EGoouAgIsYHA//NExAkQWga0AcUoAME37u1rO/+/1+NUg8eLGaIE2b9bqsQFjlQ1///lmdRGHgCHAMPZnKHW6lLnmH6xFT6j1h0RHolDVaX/1bReDN3u1raqzAZdagxpQrH+bMbE9nj6//NExBoSOgKwAMPEmPCga//hazf7j/e497S1tuaFNZWMRnIhFK9jiTPGKdXv/Jbyd3ck7kV93p1qhCDIgbut2hwxR63zdMFmNCt8vOmFUowzHc44gkdbK1QRhuFFh0uT//NExCQSKNq0AMYScIbZivpACEpXQfBLbyCjJ0UISzJQ0HRQSA0wLKY74OPYDP2nvNU9yiAugjYm0nIoC5TFyvNjK1DpBafdHtK69Wp6dShjLy4TdZGm85F8E0Ok/lVC//NExC4RmMa4AJYecGdXUi61MLAQiZFwsEjEYxA/2//0adrOTWquM4hgUYkthGEBWXtyAy3Zc5FJ8WmteGmJFO12jikEmUJ2EsU6ycByAmCBnkqWBvfNrLFEoiHTbUBF//NExDoSGLK4AH4eTINdRcaKJ/94HSXp/3ZhFUdvUMCbVMBvBmISpFGZUhNZNXiAqsRbMw1+yk6y4oS1noNhybEQAoF3HpaHyEKKNuHEBoRCV1z7KNwuRSDzj7/3WOLH//NExEQRkKq0AH4eTL/6FX4sZPSOAX+xAkgcecib7hnUixQ4GxSpc88MoJ3JoptLcDGdWlZ2XLWrulgOUYZapcRgJQtTVU2/iqxOCvd9A4VZy//Um7NpkAn2TU74GHr3//NExFAQ+KasAM5wTFZlBkISFVeGBhYAjTiSIQg4hZ4J+A6HFigAsHVHkVp4WOlGpIzMCjRC4RYHBygGoc/7X0Ms+qhYK7fdDDwkzcgMvud5DgsYML47KXylyIAyC+0M//NExF8ROIqkAMaeTD7FFMpqLAGEenS3BTMz10FZiVvEc2C0f2/8T/s52e71F3AkXKN+sFVjlNSBd0LIJE2Ixg5z4Dh0jdgEStUQQDFvn7jiW69aCwDjJ1O+CBB3ExnL//NExG0QYQaYAM5McXDiN5U+hnn/8v4ZHkGRoMDqUyEUilkOlv//h7/1qk660sGhQakXPLjAvjZAC+iDYacXvLIfIQncvPgVgx2SVho9x24CFo9jhYRh6hqSb90JUbEd//NExH4SCPaMANYScFHLpCiJQFwNjAFCzLMMf9v//7f/XWn01pUo9styoRIjrAFhJkwLIee2OKbpJbXd1mkWjr8vJRzq8UJLoPc/ts6ZiWF84ViQNY7FhYP4iJATCtgS//NExIgSaOaAANZScMCYEyhasYIk//+IKGha4o8VzdnxjobBfB7hA4TdZcIAQPiI3yi/K69OvTJ0xBOtqABRN8PIyhgSeAbBCJgbAOkdw9R2CcEmbjvIbppvWn0Oh0/1//NExJESgOqUANYYcCD1EgdL1+zJ1msVaJhxG9gd2ADwI2CAhG4EfgcqgOWQ81C3thVj8Ye5vb+9/UZ3/wT3/gq1+4Ko9VIJnaaVIepcvUz0xqqv1WE2un0Qlg8lbCQy//NExJoT+YKcAMralDQWctkaAaE2sJy+2806Zhoe9zDNBVwlIThTvIc+90r/9a/xv9qjekHPCm7///9aClVab/NoAX4TlWsu04uMFxQQMUMN+kB1CalpVfLKSusvHPN1//NExJ0eid6IANYemH94Mmv9ygbv7i2HMZDhhMyDXYMkXevhD25kqHL4vrXRwRakr7lQGc/UYzGZfKlo3YEfkIFJsH8aH8wvtumWoNim7E7Ds9Vi69Z/GGZzu7XP/L////NExHUhCc6AANYwlH38I7wa5F7jD////8MtASoiIpS3UCwIlSxJgJn1KRIDYEE5iBWDgmNQ+Mkp6KpBVrWT9ZaqS3H+/jyvh+fbOt153l+atWu+pAqnWJd0AnibMDPL//NExEMdiY6EAN4elDvYMdrhw46lhxcbVKqu9iwXvtLBgwH23ynhubHWfIVE4XFw8cBAgw9oBMPvT+pH//yBVNVUUoTtN6sOFhIhEB0QUFam2JiUah58WWw7Z3e///8s//NExB8USZqEAVkoAJt/1b/Qz8oeMYRAUCsaUpSla6WoLG/MYxg8Hg6KlKhg8Hg8HQ6HQVOrCmCoLA0DQdf0qjKgJCsFliXguWu0zyHAwBeVizrQi9O0sMywXPsgecCk//NExCAYKXJkAZtAAMD5K8tTRhQfEt7vcMsySgqjJEXO8VHwcsLSV//M3EY1IQe7xyntAKQPAJVQiac/SeQydOhQKrKv/tqrimRaSOx9Aybi0uJXXPZeJgt6dWH0P2h3//NExBIWkdqkAYxYAGihzfb4vdEfsr9yr1jVkMZT37bRWcqSjcdhqofNDSqhh8wYCGqTmHCgB+AYWB6IEgff/+1z31/ol5ndPOL/lV8DlDC6///f5lUJ/synTt////0J//NExAoSifbEAcIoADuTkZyK6UO5CCg04gNBQHPHB+Rxdm1GRUwEdjFHiBSXikxUIeQ597UsLpDxzKBj5mQPpCJfOKPVlwOBHHxO6sgqR3RAdA20q8jb810Y9I0Dj6IR//NExBIRiY7AAElGlLbR6dL1O8+H6cp2GZWoBGvsxarGYCM1/yjKXs1IMAh7jzA0RlSqj2V938tiK36jyzp7lg7VpJ6dYUIOAyp/ZxpJofN/CZ1eBdliUYcyfLMNniMF//NExB4SyPKgAM4ecAAIwV+LdmtS/DbRBaFIwqlaLYxwXx/yR6SlvpGinPCj5kmexZBc0pn/97Uf9Sq93PhlFGLccSrGUwirSBQISel1dmBnzqttzNIRF0kdhxk6vey1//NExCUSSPaoAMZwcC3Qub2+8KWgR13Z1raYbm5WX8eyLVKmTm6s3oxa1+Fg9f//xlWxl+RiTe/RKcbdnyCTNMk+cwCIgeVItzJIYzb/SMQts4tEBxsbsQ+ssJS8um6I//NExC4SWPaoAMZwcNN/G60uV4Zz6X7e3s4bq8/dPZ5PWf/6CN3+oeq7/3TLCt/4yuPFTtpwBNGQW5gFWF3QdTPoGJpM7g6yvrS2ii8uvUgAsmb2qgQX/SfSM039UxAY//NExDcSAZKoAM4alEu2HJ5/Uj1+////+fw9Z/UZW/b7UNoGtvpV1e6xSruNeVfqQM/C0Vqct9/g4va5Yn1a+ah5Da98EBVBQqmmFbgkN/78w7zz5YO0LH3v3JcP/Kf9//NExEISePKkAM6ycEHbf/9X/7Q5TUv3NmfDWcpwZh4xNuBAeF5JbhDYULzz7VSQo/zfVb2/qqA/248DTs+OyYHp9RvJxEL7s31OCL83H5Xzv0nf/d/53/9FamGztxgA//NExEsRWQakANZwcAwMdhhyjLZR4pEGXiCSAtK/XzwXjQT24AtU2FR0Z7u3ocaeo2NN81J4Fcl2g0DHJseZZivCTGVAOsyVdikZiQ2sGv/aqhKM58MDE46L0WTGHCGZ//NExFgSYOqcANaecCR0aRQVWM7xgEJiAL4R+YZlLa2Nqm/lBGosGLSNuRmljVip5VNuDeUShRIXoKk4dK6Cy1CTz3/9VTZwA4d8InI14TOIHjPyIQG4CMQaMEQCh2p0//NExGERmN6AAVp4ACUpTEnaebM+aGkmpqeQODvN31tRg+zH96Y7EKdw5yDDqQ+OYw/e2uWtBgvJgkLzSX2ytkX7nY+Jn0CKCeNbGX73vriWt9uSQdic1BPIc6Ty+bYy//NExG0g2k5sAZtYAL6f/x7uv29Hy84FnIAYElDMP8RZXoJqFpZThqb4C3AW69Bgf9X+bbWN7c5Grk6T2MSuIv9/SY6/uX/LoRhNMobalSoyOUaQTJY/vTcR03lBssNA//NExDwg0uK0AY9YACYPg21ybE5FwiEZc8Yrj+EwIBuIUzcmOod9EgPJNZTlZtl2zv4qy5ZZJ9Ww9e5v+5ytzSP9b44Zs/7OGlwe1Vz6yZqEg6d66nei0RIGi1nWkajh//NExAsSeWqoAdhYAPRsOZsFSF0VqZfvW7k7//cy1Ro7k/+p1Ju18GRamoAwTjkprM3VUq2/N2LsNLZoNrj/qN7mtWJp8AuV0pLJ11+7rkB8mJWbgEJGbALCpyGypEVu//NExBQXgXqgANPSlClI5wsKdBUwuGGL7quL/N8w5Ireh+oRyHAxNwfgRIaoDSZtDFxNFxAhrSdAwhVUaotOMqld+4VW5k0NyyLbdIO9Zhxjb//////oW/RN2M4QOSe1//NExAkUMRaYAMvYcJAb4S3nLMbo+ShjISHQbbpfHy4eCaUbMhfXcNVoTDc1D7xbLJSDUVG9GVgFSwvUmUfe77it1o5MnsodPTdadKu6g6sNIDrPqWlR9NA5qx1UfyFY//NExAsRgPZ8ANPYcHFALeQkAp0ikI6nJI6tO19Fq+lkRJ04WT+n0yvWl4Sn56OT7S1T2snvZtZs92VW0sy5ZYvPdpxnI//pIkHIYWZl4dbkcwAiOJTHas0ozCqJUaDr//NExBgQaFJ8AMvGJMwUUsLrUIA864udCZ8aF6+QXUKKSeuOuWQbrsUXR6K3t/o/7VvJt2LqSgL4GrC13vxXaLs/cB1mP+0PsKeIdoj2/LTQhKLlRYIlrlf6EZqEbSRr//NExCkRmbqUAEGElN6N1kRqMuO0IBE2flBZBCj4MdO3OIYopP2I1irydSUQXYwADQIweA7ACAANgBYC2LEADBGG+c5Bc0LT5Y2dZRyrcINLSvZBQUEVE7CtfjMzVWpf//NExDURWT6cAHvGcBox+pZ/7HxRLP6od6wk/8TKk+FOODANpbNDzvGnhhBqXuAZhBAgJTohwuYmy4LP2omLBCQUliQUDkaUfJDAdzt0B5lTyWedz+/v3/v0uVONIqdp//NExEIRoTKYANbOcAQAH9Saw+bJSCAOVUibZKInaJpILHLhwhgsSRyVTgVFQhw6hwMRESFZanuGDMcdufYJXzpabW+2Of9T/q+r6v25naYoLEV2f636tOHVu+iJ5VVl//NExE4SgYagANZOlA1vfxjBFjIrERH4Gg28QaOl7IhEOGdZK3NMkVxNsvi013WEBYrIp2OKWRTP4f7+6fvILg22fRu2w6KGCtV+fk6UUE9j3cEEY2lJ66iQBBtz80cp//NExFcRuYKoAM4ElLFMZ4vBA+dxGR7uTLd1OKbbVWOXMIkEVBhSAnk6qng3M7ivN/w5t424bxty/9f/XG8Psw5JlBJYkq5SU0dGPEm4OyXY5KbhH8NWBBZMCdUBw29f//NExGMSqSKkAM5ecGYlD7svg1eWSqnXK9ud9aLe9qzpOOUQcnjsFxFKS5lVaz7M11MijdcY+pgZD6x7lB3/XUH3KfMwAZPiCEyEETXzMgsSPUz4CWBGjWu7Vhs0cOMF//NExGsSqOaUAM4YcPy1rPefP33CxrycFFLogjTXrRy9z0p8Nz/v//87EiIOU7mv/8yR8ZJqQlRh0zK+NIVnzQmVgUZvH+wEITd4PJwnyWIeN84kSyVV5f0uhjpbdX3u//NExHMSGT6EAN4McCsbgn3NWFwZT+EwcZm5YgeE4UvE1QwmrKa6mQUYyEPmQKEhcnKGBQ4Lk9RFbf6BBCEIf/1//8zPcKh4X+v2/T3eX+fylSYSdkgj8WZA8fU7t0UU//NExH0bmeqIAMvSmIhQwVEIrDEOqMSNQSNy82tz1DECkHBWsbxRnOsqpdEqOcx2NclwMiMxq+JG3AeM60zPfTcbeqenk7eNSBCFRoejg+OokBYITRjCMLEBQq3tjKhU//NExGEg+k6MAMvQuLq6sfyvP9XccaH/boiJu7vN2SZQ9xcBB8aLLJHJi8w9H7YsZLheHRAUMNUlVrEnz+/SUbq0lnpN2GslYwEMcUCXEnnh/GwjPQWEQOiyNLzEfXnY//NExDAZyh6cAMMGmGPMk/2d+K7l2rJsOhmcIIJGQOXISBox6oJEChJQ46r5c2v/yIZcKKDabCSVpAx4KCIP23N+r/TVuZ3H2GfIJ4AlcNLyWo7DLHUA3xx7P18ZDxku//NExBsTIOakAMPYcKbi1lg67VzqMeplxgsGwoDts4TOOVt85NdyOhAB/qEbwTMvEMqwBJtQRRdqO/7jc761d+nz1Cz5AilDImeCkg8pLalZhIwB+LHFVEPFQconpVyU//NExCETkN6oAM4ecFZffpZCwpGNbMhgE4NSEbzcZarYHdmysTWNZmPmCGuKQfBkPrJ1Lr2Lp//5KpWprdxmI/SBZ687Z5O8tM7D7LC8xIFMTlW603ng3Prrg9VDEjrg//NExCUScO60AMPecEWaV9WspB0BEgwEMlr6Nla43eerhPFAyouCQfD+72yDjb///mWr/6boNV1KYYC8Q43Im3RNvqAdgsOt6kQ2L7w0Kt3yCEs5QoD6CKPpMBAA0IDm//NExC4Q0Ta4AMPWcIvb8HXf1fy77e5tbFjzENj828YlJlWXY5WC64SRejthQB+gAyMnNEqhDk9uqbHCy2tuuvnSu3FzRdf8XWtYrAef0xdKx9vS11t9b1p+31vFavss//NExD0RGS6oAMPYcZjENBfyOYGqDgR94mIRMzHVPMOW3CoAYKYGzsRhxSuqVIaAU41mzDrcWNMuvfrPfMM8pbr2NR8+qbZoFQs42Y+pUvhkJIET1A0GRF///TWJJqsT//NExEsRmOqAAN4McERTrPDQAxIUIBBVXA6uYAQi+TBg4e24eIY+sjwPIlEkeh5E4TxrIA1lwczgziHc3PScDAuBqB4GDwKGpGsTiGdBByQJdD2QSdVZpOhjuktnmt09//NExFcdeXKEANMelDOK2rau9593mca1E4IGaOUBECBEVf9MpJhj/Z//r9JPPdmqalWzqVsTAkwBf27tJSVJRQbamn6prOMzLM9cmbP63F+a0YR+uFA6NJCsEZjy0qoM//NExDQSEPKUANYYcKVkPDirT62QdDc7ZT5xBuCrud1kqn0xuPCZBhLrcQMJ8B7Zm1dBALbYxHgg+1nW1IR3+D8r+3o7fym32cFAp5trwAkhs8MScN6bCSBFS6gO8RtV//NExD4SuWaYANPalIzP6Df//XzoVB89/9GGbE2o8Yi9eNKaC7Y2U7LhkERaN+7WC1McKSXQjmc1T8/5Znvbbm8PDS5SOCFTN5lo0UTk2K0hSHN6rN1a9mGNgPPs18uH//NExEYS0P6gAM5ecIGx7v/k1YhTWX6CRS/3UZgdqmLDoQvMzeAEtIrK+Mu7rMtotZxq1+cWy1p3NYPU1k7RJMVoFzwDxsIgCRatPQaoB1pytWYmfFCYb5WTR+aJVTpE//NExE0RgPKYANZYcIBlpCgApmau8w00G1abTAaIUUAqxvqcVsWlcpbGR9EqBIIpyUENuUHgJA4IwjCPZBgd7kVMLCPdb3MJFX2NeHqbqKIXpjHAFKgyt4xoPnzkjBPd//NExFoZOY6MAMpQlNVOom44oT9xf+jSEhZmKdrVsWAzUvRm3puHsZdz/M1TihjI1IKJozSSuGh0ZwKSLRmrfPLNjt/Uw+fM+/eqILqkQrMhgWPjAswsWCT7mvWSmouX//NExEgUmYKQAHjMlLN+7UXQy7TU2NK1AtESKrovSSRov/6Mu7M3qUjWRzaoj7GMGAmcuYMSQ+vaq/9q/kXzY/PpScPU4UpTcQxhCXNOPoVfKJRsZRnmqSLvS8ti/SPV//NExEgR0daMAICGmAyLyHHoFO8lRaRuZQ8gAyhcyBxUQWsYyRJxOPMmXPCGQVaESKTw8FDJfRFZBhl85XezOGcUow+1RwgCJSsOHyBwIInd7SE+SHociZR2bpMHE80O//NExFMP+A6QAHhGANPUOLNK7XPL9Omf3CHTC0GL9C0n2DNKRq73omgeQ5b/66naVl3KAdilkSBRRKoUUNsVh7nmrFYmTUJ2pgMEKNR000iQjlDV9+JfOdWeZf027n0K//NExGYQES6cAChGcKgpotWutweXVLqfR0CrU8V2XMUs71f1//USROpljdUmJjzEsyr2dYDL1CAUKQ0m5ouJ4UqV8GUNyQv6h4F3tKt6mYh9Xn0G8SsAZpHynmfMZ6eS//NExHgQyOagAHpGcPQIdkoi/oSVD1Us+B//////i1RjdJQ4CF1IhqBkOidIyajdqx2FvuzAFMRePDGAGmQfrEEyBnDgOCGbKFICYaBQIilcwfq8YnIfhAcyqEhzat////NExIcRuQqUAM4EcLdfGBjZ1bV6IA4uijn//9P/roFnTFVf1fU2VaIsjkytywhobp4hdSHXqMUkQijtM3YIKJOqQ0o+Anj1GVtMetCvG9vVfn9ztd/6mP/5noTZgSBC//NExJMVScKMAN0KlLZ5ra////+hAbn/VkYjLmv/////oh0SFUqi/lODBo8zhx/30BmlMeY+Uh5nsqdugZUu1fjxmSg6y2rbNiFSNM0dBtm9l/ur6S/cj+VCBqQ/V/fI//NExJAVac6YANYUlFbpGo8lv////66heVWs3YfuUsSBDQ9VN8SpO7grTksWdgDQxnuL+BiatvcSS6nrnwwpszpxqFbYjE0BiccjE1Dl2Nyux9vQpnj43AUTPICIPufU//NExI0SKPKkANYWcN9////+cR0b+p3////+KPskFURp6tIDLuGQOwrgwq865VIKFzRnZIJLV4klSWvlcezq7gB1s7Nh+UyQlOG6pBxHEpyhJgayE1JBI8bR9tTO1xyQ//NExJcVUY6kAM4OlGaRn8Cw4M1/itWSt/1kP/////gehX4q5vGbUaEpeKPprfiNJVR2hPQDVUTUYjlZd3gva5npGt6SS+JswqU1cpVRq1SEM4sCIEujBhw04HyhyD7w//NExJQVYPqcANYecH3id/////////WqJglyVvaYnNDEfdIRtT45S6DgstGSkpWxQPKXJeWTBSau3FB/4cdbScXysejbYrYtJELPaPCahzxIj441RW7e3QJ6PINvh6rm//NExJESCPacAMvScGyvxKXvumd4i5xSl/rLPj38ZYsZcMKAMQev///r8ocUwcCFd21uCjAH5BawC7c5IC3WIgGk0ojMjY+QWzr1nEvUV71+v8XHstOIYhA2FwfBc46S//NExJsaqaqQANLelM44JLPCAygMQfEJF8VWFgoYuRW//////FV5srCq5sxD3wwtMR/WEQ7ah4ahycbj4Hsk8tqS1Jc/279OtWYEofNxxgk4nBdQOklx/ZBMe6C1S2yZ//NExIMSMQ6kANNQcE2Z5trSVpotTZGxnT5H/////NFFgel0sCfAycEdg88kiUFzosFhgExE6fMRQSB46vs+WUdb/mvn/mJtbpDlgXAVHU1g1NqSDqwdHag6ddEX1HVB//NExI0TYaagANHalNUmEoGbGSHBszyl5D4iADkbURky95YI/hIqQzzoqdY0VtYWX87rvco7EOdUHE+f5F71Clciou2UTGB+XkjBU+v/9P/6P///KSAWFIx73HLkSx5X//NExJIP4S6gAMzQcAeZpGm8CCVKQYw42hXvKIwKBTUks9HoXX7rtJvczLOWUWh3KIIdELQspee8TOCOSffDcBrf/7lDak/5TXWScMft/bJAYx9DNeVxZNC4YYaDAApJ//NExKUR+OKEAN5QcJ/ZW2QQ7OQ1AKduQJWhHPyhaat7oUvE043R4S5FPPttylwyeo6RtWxiYKUC+qlPI/J++xFhxH9mpb1bUjhAo8UzjfKKPpdRGBidP8yMklfAm3aB//NExLAQkNqQAN4McBcXuwai4bntv4Ewqg+AHf////ooD6SEvSIFPXWyGZbJmXYmMGzhj23kL/FUEPQ5FLFVT2JTivaTJUSnInmOoTodTJ4UvGuTuD6o5u/+0vWLwxKF//NExMAhKbqMAN4elLqsdW1dfmR51flVJVEikcjg/P7FXaQ5KTFgfHGIDUOEQgaYlyY9tppM3DN/F73ZxmjdtYYs5UpCdjuV2dERq2OLBJkZuQmIFB5qU/Q5EItCJUOh//NExI4bYdqgANYQmZKwmclioopSqLgnGIfSH5xt7Cowy1ZyLm0uUNa0SgsC4fEksXCx//0Y9YFw/o4NSG85EMgcPL1qHiTfJET936E+JCg298PoR8vdq3JaWCG+JUO0//NExHMSYMq4AMPecH/Gwwv6f+Dt4dDCijixkRA4fImVG1qE4GLsLCd//1xVl/87Do+S9U1Eg71n87jDnMz+gbkzfDlxgQZedzrbVQhFe5BSDLZ9VItQIb00s3KYwzyg//NExHwSMNK4AMPecA3X1PZDB3ZChhlehNWfxbNCW3/8unO3qq2IRltUNmCQRFoet7pUSO/ctLGs9uWi5jQeY0sQUQ3Sy2OoqatZWo4HLyvV5gFBjThFmakJfY4W+guL//NExIYR6W64AMYElCGmiSdtaiTOskW5v/5CgTncIDBTrdXseCznm3/JInj/6qL1x13AVFawy23SW9/L3LsY9rNwUlf7dlYKW6LnBsZdzqWxmldayXPIHVle++tbr3Uj//NExJES8XK0AMYUlLrNtnr9VaXLeURHoWabkBh05zdG8W9G7vIXTPzg/BcZ6+GltbkyQTX4EAGnxTTCgFRQisLZdCgwTelEDOdddJ9zQMtUHgOHouyNoNKR/+DVBaOE//NExJgSmYa4AMYalMxgK1YlhDdkZPKBl0YB061VEP/uMu4U/pd1fGEUsg5CQxXWEIVFJGJQKj0jDX3vxaraQwVjVqhsEhEFZB/b/1OVmP5ThecC/0GMQHR+OKYGRivp//NExKARaS68AMPScOrrTTlcW9K4vDtnUolEapqlWmW3Xsx6mxud/V6VhBkQGyUyOtp2vNIGcCBkwI49bdnLuUpktiqMimaEzeA0qwOM8zTH3Baw/sIzeNjtNnNwJnzc//NExK0R+Ta0AMPScNU3NTE9l9iq/K1C35a5hgRQLIJxU2Nm5HNCtOMEILjb3WfJNRM1WNA7omIencBIAX9ABU1kBn6aqTobYEEzspWjR1YZRlfLLeN39ZXqbdUA12Fh//NExLgRWQKwAMYScN8c7TQbUZwGPRnpdzHCYDlhKCxESM/+1Sv61ZRXYmACIbcU4FjhQiNYX1A3aUVOeLezXpGVqSqOiYfw3u//8c/vLoTKhwAj4ppJM6sR0Gz1B82c//NExMURGSaoAM4QcPj5uVLB4E7f90RPvf//////JFa5I2EqpRixKyJlpcY4UwT2dhjJ2JlYMp0WACICES5nrEqtJlDEOVH0XJOc2Nn1Cigky2yeGpkl9IUMyUT+xFLq//NExNMR0PKMANZMcOhehy6K0QIsv/tKu9bv/////RUIDJG7JgZIeSPjwM6jSSdUMDAXkT+MFhggEgPBlREMQR1kIkCTtrT/3+xILgbz4bHZCzRFGprba++MMO8tx63+//NExN4SeSKEAN6OcBcs+8Yia9omlH5yyriV8//Z10//////WWVQ9w3CGDZv7SH6sY4MPCcAUZ2VlJoBpxz5x0ChZLI3Migds+dO+rJ/vKPhxOn2hwV+k5o1zoVilHO3//NExOcU2P6IAN5ScCoiG9BgfsU1O2P/7OH9pdi5ksG4jpr9anNsNyLAwdoGkwIxpK4K6o02NzUqNDBGwj35rYuwDfplDr1W8SiH8u2yqDYVNxt6082atYflXrT5Y7rF//NExOYWIQaAAN7ecAyjkbbyuAL3c5zmP1su9339ff//qVOvYfkKJep90/bIULW9b7rJOmqrf/93n0D6gW1dIQA2UrYvi2xiCEc0cJIxcwCUFkHcvR4LgEI5/W2suPyP//NExOAUWQqEANaecEbWPA76pissl8cfISEJCEHL8T5DzcXkOBzD6CsPFSsTWtyVq/j6Q1DVEaezZ4gqeezg2EwwzByXdl4NDDIJ00cLW0sAJQc8/bB8lUjM2Uxb1H5V//NExOEaYRaIAN6wcMHOzvk8tF4ZUOCHC5hIDwSKtNh0rVKhp8OnyKusHIqKR9B96av/6hv93V/////pVa3cYk1UxZBfrP04SwDMDyNsALEUbB4s05DkkdleJw7q48Oj//NExMoUkOqUAN6ecJZ3zMkh9oszT9WVc4MzLM+gvn1oLZR0suEaaOByD//6iKp8uYyppIisrfZM/KRpWAIe4fPWHLi5345vHK3/41aKB/wrWByiMphKTSE3+Wqev/ta//NExMoU6O6gANvecLn1mdUx/WsLk1kP/rK07otX////itbNIohidJ3C0SdR61Uj8kW+YYOL/4tFrGK8SYRjv/emkvd1g8cnyvj1EGBOikZGxiajuIb9Zt1EkUOkkf8y//NExMkRCPaoANMecOW2fCmI8tgY4o9/v//+MOPuqJFitWJfDceGARtPIMDJIV9DAY0C465iWSG9HFVVYY33PZfUNdTsZBx0MMF9iRVs82t3gRt/4ghqaOkIvbw1/8x6//NExNcSgQqkANYYcINPMnv///6SSgEeIgrdQeMbUDqWowgZZIulBkaye6CiQhLoS5OZJJ0oXS2XTNDVqdQoV0xVFHi67DeL7ZmCohDqRZR0NB1IbjDTCqS0m0qlUyS7//NExOATmQ6YANaacA7Ug9clVfVU//p/+Vot4WkMU0ePAAJ6UrBRBlrwRlQGDo1U1S8pbOqbtWzcpoBODXAgKFTodEohAQVBQOiIqAjx0NCIqMFg6GixYedDqCsedYla//NExOQRmMKMANaeTKxHsq2ilf///9M30dC4Sc6ChgSBkaFl+W3SCROfyxJKVrbaTdooLjwAoqD2XGicMPJh6BJD4dNXHGUgsjI7iBTH0lJ2ux5+jrHyVHzpJQL27P3R//NExPAVoKpwAN4eTHLoolImh02TfbJ7qPmqZc2apQeaicclPdbbqP7/t/FPYapJuRQo8jM31LeOe539fx/x9Oc+mse5VjXJ+BFpOJU2ADEgM5Zybc/45RtYu0x6tK8o//NExOwT+IpcAVkYAOvK41Lr8vCARLgWDoA8OHBhAymFu1Fw2KCLaJAtK6h+BMgXH0jtSrVrKlB4KEgvF/t251SVYA5ChQeYj9PaTMX3ezXGYY7HpBnMekRxVw3bdN97//NExO8iIu5YAZtYAPWg5jEk8+Iuqvp5eXv/1qtf/n6+fGGGTj6PLZtTLgmlK4DaGcWHfhpxghhF4XXaef22pxH8Ya4UFeyBQfUFEjpnBQAQA4NzxxQOg1V7WeA4pTxR//NExLkgAypMAZtAAMGhBQei6gJCUwPQXCwiPUUnvEMlmDo1iTzPST84pu4uehFVb/q75eb6eL////5neP//v73W0Sb//7ioSo5//i7nKLbVf2RLmGgI4kHHgl9GvGWF//NExIwfEx6cAZpAAcbcQg4BThcAoFKPepDGca8rgbWqk6OrW/hY0WI4G8U6QnNJQfqYKGCY0sYAQBITiOJwaCAaHZR9TLT8PzdVStKISdWky/Cw9y0R////xMQ11/3///NExGIdavKQAdtAAf///////xzFKkVKRl2Obku40KriX9flAVMzCAZ36YxE7ObdkIXKSPDgtbtYeAICG0DUdy9IXw9K/+Lh3Ps6dd5/6lKMcIRCKKAcsVbPjRswgRMi//NExD8YiZKUANrSlLI5ks0e1v97vv3tyvdpg6F1hcyLX/sOA1//+pgifcWDRUFV1d3o6I4YcBmFzGgXsvWW3ibEWxgMJ2QZmPY2oLaovPQ6v/Uv/8zX0VKEsRg1RLiS//NExC8TUZKYANNWlDtyYmO1RdkPhtdO/6+4+WzrOUZYLf/b3f//R0FBMtVMeXxcyhUiHw4k+c9YnG75bgaNy7ijYJmsOVMJ9xrv2068z+bSw0GMLoBgeJmDouIDmFw8//NExDQRmZqUANKKlIeWldW07b0iH/+tX//10/jBcYpIqVtGIJj7TzaHkFwHMvmRVxsoFQI8W7ROxmWzffp/V+/9fF/aGBkR0J3eWu4PuqHxI/3eFKhN/+qFv/+p+RW9//NExEARoTqUANKQcEDaA2bO3IpLHVk3pXB0qYFtuNEUMBaVPdWNLvuaCHxKoR/r/N3oqSMj5S+n6me3//+3////3rRGpfI////k3SeeDUWYxDThxauczqLHu3VwiNpJ//NExEwR2wKYAMCEuW+B9DqhwDSZvLF//////5f//////////7//TX6MeiuftTXdGj6n3PdjHVGPQdOHx4xAfuWUuPnAsPsKRkdGSI8JA4wQq07O///////f///1//////NExFcRuyKsAHhOvG/36adTP0pbRUMcxs90VXPdRow6UNHDhPVGHzjUWqkxLJg9FQQDpAuaocLiThUaAMYTHjhMeEkbNRLDTXMVGZTtv/////+///r////7Ut/2rzzt//NExGMSKyKwADhOvK1I5HVWOVbVOrzMREUQFinYA3E2GKhxdiBwBQ+ESCxA8wdcpRcxQ6HhZiINAcUExdVhjYHeSo7UQQMBzXJcA4xc2muKUqEEcjUbk5z0W853an9v//NExG0Skxa4ADhKuP/Vs3////////bmN1UrffQxishlYSN5jKVsRAEARVt+UqfMHnBQVXGryoYAhnB3bbuFLx38U7jlGVv0po3DLwUDOgItQPegl8SHxwurBcRiEnvz//NExHUSIwq0AHiKuXv34tGOEbT//+h1WDLNf+uwaA///qZAUKsUo8LQoEEyyauKKAk+VPerMBtQAnYzUOSusmy0nMy1efqWlJjUpWFVDNoy5V/T92EiX/7z09/0eqEL//NExH8ReaqcANHElPy4fxBxINbG2H7aZOp5+4lVQ8WRWEPgw1LTNHhyHbmpd84kuXVP76psCYrG1vZP77/I2q//+n+u//yJT1dKNnzuuTt1Y70uYUUiAQiIcgoLCIfQ//NExIwRUTKcAM0EcEAOjPJMomPiKNI1ajQiLknxJWaJCjatjOMW3rWj///6xON9rk//8jxXz/fXtv7YyGMZsc/2/HzF1L5j5vfddUy7Rv019lHTRijEqLz5xNziFzxo//NExJkUUuqgAMCKuXUCxA6SyY4xNB2AkASEZo7hBHCeuBgkjvKCcTMoExoOw1J6dwCJhCak3///////////Ll//n/+v//r91f7qjd7JiYuVtvLphku2HmbGrnzhgiUG//NExJoauyKgAHhWvNCBalKSL7H+mJ0XJlItIpIAjBYgx2vEGYMINI6WG9jyaGpcT3mw6Eky5i0PaTf////////3+laVZWR1ZDlOU1DlNRzntR7Z36bfWler6HOabnHf//NExIIWcxqsAFBWvObHjnOc46ah2OjZzTRqJJsFwDQAQ4HwrByOA+ErNHRqxymnKRZCTjUxVStsoHjSkvezrDVW+j4XM/Vb1qoLu9B3BSQd4WhG9PgMsEcDcCof+JwX//NExHsUYxqoAU04AdgtgFA/dXg5xLDUZAn5b2V/aF7KTATAYEKuLrK67pb7bi3EwHsQRhx2jeF4EUtSnZFV0f/8FYGQC2DAEoF7LS4HIC8Gg9KKKkTRmU7VP11mTqR///NExHwiKyqQAZhoAM9USBQSWblY93JAlFovwIACYkRRPYChi8hUDQGiAUcCPx1cUPkQciUgyhujvVXe6VW6V03ZzLH+3dE5remFxvd4wMj6APgnc0usQrW/3mPHsyvL//NExEYfykasAZl4AcFsX1n4jX6RiW1j9u2zvvmNXOqu+yxc4r6RrX3qJ9a1mD80zbDfvWMwoUWB94///+3yl/r/jQ21xVWW42ZlpBOLFJRHWBGrsPCwIy6bVUBzEZjE//NExBkXQdqsAdloAKIml3aw188YLrMD6sqEoRc6ZApDLPiEAH8cybMiUNJIk+pnXlRL0ll02bmDVstXY33mJ9bKt7epl1JG5UNPV/////eTl29VWfAZeNU1l4RHGwWt//NExA8T4dq0AMyOmI1wSgA/SIFUmhfhxBRMFpDGk6hcYw3RTSFoKZ5SZqCJzSi5DTPyrzxzxMmgiB/Qatq7ezaHdG8zpfsTNufJUum1atzOonec0Q3ANqmOVF/TuVUh//NExBIT8XKsAMZOlDiJCfqUDGAXDAm+dRCnsOaVmhy9TxtnwOPlViAn2QDRnXNRAZblvHfPMfHg9eNmeo7TVuhbunsUPlT8N0BtkP8ykxOZCIKwvGaMp6vjeJBCInet//NExBUR0cqwAM5KlL/BJ9qW40IqDTf+CqEJoZ2EoNg66D+U9dsc7z/oAbx/o/UV8nUTbq3V+oz6+b9HxbpkVYvn91P4GhuRPVOCM478Uyg87pIA9gHW9wmQNRNq0xzJ//NExCARQMa0AMPkcFYmSQAj4XUGTlw6XHtMu+zO1uWHqDqAQHqQ8EP88kHP/////+iHv7VlQ3K/jQIhgvUDVZpVQOrFfuNwEkuy6hs4DeTWFK5iTnC9kwFQISJiqWMm//NExC4SWL60AMYeTOVr3dIz07fLbrs8LhaIBUAOzL26k9f//////Uqd/c0WoFlVbLYQ7K9p3FPcHfNpnuyBXoF8vhxj2JtBV5MzeR1W9PMMz8YZ9gGqUP0011aDDfkM//NExDcSQVawAMPElIhDmeRf/9qqyOjkFqFo9aTy64XzUGmsk92lC6RZV+2KCPRFfW6RNAygalbdBkMhqzDDIKga1yG4dq8el9UJ+lzMoTWMcixF8N/YSpBk7/piUsGg//NExEEReMqwAMYecOzoq68Zy3Wekb7Fayhh0WtaqI1iYwQDfgNcaEl1qRYRl0arNYkdnN/5iHqaVtLlx42epSYYlQZOILsDF1FxUHP9m4JNtRr7v/////+ptamQKcPL//NExE4R8MqsAMZYcCpuJFKWXyQYjcd1xVK/zpUqG4tr0HBJPdTHT0Dp0uaralXjk9c8cQlSnTQRYeDTt3uyhK9g8/qpH7//////9Cps2VOYnLEact2NMuCSlObgMGHY//NExFkRSMKkAMZYTFr9naRrazvpXLAatuld+JV+2rs4ut18SxiCJUjhxIwBDPssF5UqJZJbk71RgrQxQtVxZe6Qxwac8YgJnQClpVym6frOHyHklLQ2iKz0jnhWsm82//NExGYQ2L6cAM4YTHKf3i3Y40sBfguVPFFAg4QvJCu4a0xJ938z0vez/9CNU7omZusdoXUDPMFLKANBZzJUG81MHbmAU9VrKs9/WpsJMmnKTt7ER0iwRmHjTLqUERM8//NExHUQOOaMANPGcAjzclevtkV9hhns////zVVkj8MjM1YSjXimeEPXmLaABmNAD+JAtZgNL6iYr4EGbNdXxXVDrBt0qzIumgIMFl1PbYwiPejsXXbNLd6L7v+z//9a//NExIcQyOqMANMGcAAEhgKCEA+CvMUAkXzPJkCBKORg7EAvoOA0JAUAZx6pbtkMrEbFTtLWpWSudRpout+vuj2pUO8x5L+mnsJgji0HoMJlnnPtmpNUdNOOc081///2//NExJYQqOaEANPEcLociv+rpH0f////xVcwIEUjwoHjvIWEjmX/MJFImKYJBAhBRjUCMfaYYPADjGURKIJKBZawVFX5HR06s0hvHbN92nHpIHdMhLTnOyrx0vVgCEBf//NExKYX+epoANvOmM6HWU00piFEgvJCzxddf////6GPT8/M8FkoRsf7f///xUKB5Co14IWBA1+cDMHDiAMZI4XOX8BAyAmDmlVMavw4SRqcCkMY/r3fSO8Fpm932BkM//NExJkaiepgAOMQmIdkiHJZ+P6s4eGokhmIsWyBEZm3ORTjipCaUJi7Mtr9f/qi1G/6rUhKk5g731////4rNYkIgoUMnqUpgDpAxyeNX1EWeQQutoOXfUAuXARpny3x//NExIEX+eZgANMUmMut2W/dSaIQSVJD1vhuQms0qGQ2IxRNn/rVRxjjmNN/X//Q4859Fopk1CRMziyWf///6gD2lBABmkM4RmMcZdV9pDL34normrFRAFgbJFjX35Tp//NExHQVAe5gANJOmMsi6p1qHoYH4RtVmZXQ7igwNFU6evqcwkPFvf///ZGF6lQOWd7DCjmhiYhGlcwLk6r8yV52U2ZTXuXaRUcIhAiRbOvD7CkOZsL2mlmk+xOOR+4o//NExHMRmbZgAMpKlB9gU+Z0/XqYOCOM9dfX0/ogYKApLM6oitECzuiqO2kRZpb6hU/LVeyhsMHvLEYrDuF7B6TBBBzT4nuj3fbW7plpUXQeh+3nbbnLlDKpRy//KhnV//NExH8SMeZcANJEmJdPfbpKlWG6OjtXKVhEWPdL/+j/XTj/hsGNCW2TlSFWrHpdQKRzTZBQCAkjUQz4U3cpStQzww4SIiIedg2dPOLPIiI9RKkhK7/DQlIEqzqwE9vl//NExIkSqeZIANrKmH/f4hdqODsRUGiSHOFByQLJpDT0Ny7h31YG5Nk1h/9zKZrP+2UjXZajk1Q1qGU///9rY5GrKCgFCv4ulSAqSf+r/i36B6pMQU1FqqqqTEFNRTMu//NExJEQwK4oANGETDEwMKqqqqqqqqqqqqqqqqqqqqqqqqqqqqqqqqqqqqqqqqqqqqqqqqqqqqqqqqqqqqqqqqqqqqqqqqqqqqqqqqqqqqqqqqqqqqqqqqqqTEFNRTMu//NExKEQCW3MAMjGlDEwMKqqqqqqqqqqqqqqqqqqqqqqqqqqqqqqqqqqqqqqqqqqqqqqqqqqqqqqqqqqqqqqqqqqqqqqqqqqqqqqqqqqqqqqqqqqqqqqqqqqTEFNRTMu//NExKwAAANIAAAAADEwMKqqqqqqqqqqqqqqqqqqqqqqqqqqqqqqqqqqqqqqqqqqqqqqqqqqqqqqqqqqqqqqqqqqqqqqqqqqqqqqqqqqqqqqqqqqqqqqqqqqTEFNRTMu//NExKwAAANIAAAAADEwMKqqqqqqqqqqqqqqqqqqqqqqqqqqqqqqqqqqqqqqqqqqqqqqqqqqqqqqqqqqqqqqqqqqqqqqqqqqqqqqqqqqqqqqqqqqqqqqqqqqTEFNRTMu//NExKwAAANIAAAAADEwMKqqqqqqqqqqqqqqqqqqqqqqqqqqqqqqqqqqqqqqqqqqqqqqqqqqqqqqqqqqqqqqqqqqqqqqqqqqqqqqqqqqqqqqqqqqqqqqqqqqTEFNRTMu//NExKwAAANIAAAAADEwMKqqqqqqqqqqqqqqqqqqqqqqqqqqqqqqqqqqqqqqqqqqqqqqqqqqqqqqqqqqqqqqqqqqqqqqqqqqqqqqqqqqqqqqqqqqqqqqqqqqTEFNRTMu//NExKwAAANIAAAAADEwMKqqqqqqqqqqqqqqqqqqqqqqqqqqqqqqqqqqqqqqqqqqqqqqqqqqqqqqqqqqqqqqqqqqqqqqqqqqqqqqqqqqqqqqqqqqqqqqqqqqTEFNRTMu//NExKwAAANIAAAAADEwMKqqqqqqqqqqqqqqqqqqqqqqqqqqqqqqqqqqqqqqqqqqqqqqqqqqqqqqqqqqqqqqqqqqqqqqqqqqqqqqqqqqqqqqqqqqqqqqqqqqTEFNRTMu//NExKwAAANIAAAAADEwMKqqqqqqqqqqqqqqqqqqqqqqqqqqqqqqqqqqqqqqqqqqqqqqqqqqqqqqqqqqqqqqqqqqqqqqqqqqqqqqqqqqqqqqqqqqqqqqqqqqTEFNRTMu//NExKwAAANIAAAAADEwMKqqqqqqqqqqqqqqqqqqqqqqqqqqqqqqqqqqqqqqqqqqqqqqqqqqqqqqqqqqqqqqqqqqqqqqqqqqqqqqqqqqqqqqqqqqqqqqqqqqTEFNRTMu//NExKwAAANIAAAAADEwMKqqqqqqqqqqqqqqqqqqqqqqqqqqqqqqqqqqqqqqqqqqqqqqqqqqqqqqqqqqqqqqqqqqqqqqqqqqqqqqqqqqqqqqqqqqqqqqqqqqqqqqqqqq//NExKwAAANIAAAAAKqqqqqqqqqqqqqqqqqqqqqqqqqqqqqqqqqqqqqqqqqqqqqqqqqqqqqqqqqqqqqqqqqqqqqqqqqqqqqqqqqqqqqqqqqqqqqqqqqqqqqqqqqqqqqq//NExKwAAANIAAAAAKqqqqqqqqqqqqqqqqqqqqqqqqqqqqqqqqqqqqqqqqqqqqqqqqqqqqqqqqqqqqqqqqqqqqqqqqqqqqqqqqqqqqqqqqqqqqqqqqqqqqqqqqqqqqqq\" type=\"audio/x-wav\" />\n",
              "                    Your browser does not support the audio element.\n",
              "                </audio>\n",
              "              "
            ],
            "text/plain": [
              "<IPython.lib.display.Audio object>"
            ]
          },
          "metadata": {
            "tags": []
          },
          "execution_count": 13
        }
      ]
    },
    {
      "cell_type": "code",
      "metadata": {
        "id": "Sp4X8Jh6ul57"
      },
      "source": [
        ""
      ],
      "execution_count": 13,
      "outputs": []
    }
  ]
}