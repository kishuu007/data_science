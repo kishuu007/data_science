{
  "nbformat": 4,
  "nbformat_minor": 0,
  "metadata": {
    "colab": {
      "name": "keras_initializers.ipynb",
      "provenance": [],
      "authorship_tag": "ABX9TyN2Ug6r+pVfco93kK4vgPu+",
      "include_colab_link": true
    },
    "kernelspec": {
      "name": "python3",
      "display_name": "Python 3"
    }
  },
  "cells": [
    {
      "cell_type": "markdown",
      "metadata": {
        "id": "view-in-github",
        "colab_type": "text"
      },
      "source": [
        "<a href=\"https://colab.research.google.com/github/kishuu007/data_science/blob/master/keras_initializers.ipynb\" target=\"_parent\"><img src=\"https://colab.research.google.com/assets/colab-badge.svg\" alt=\"Open In Colab\"/></a>"
      ]
    },
    {
      "cell_type": "code",
      "metadata": {
        "id": "Cjwdf2eDAyuj"
      },
      "source": [
        "from keras import backend as k\r\n",
        "from tensorflow.keras.models import Sequential\r\n",
        "from tensorflow.keras.layers import Dense\r\n",
        "from tensorflow.keras.initializers import Constant\r\n",
        "import numpy as np"
      ],
      "execution_count": 1,
      "outputs": []
    },
    {
      "cell_type": "code",
      "metadata": {
        "id": "-Fljido7Bg_A"
      },
      "source": [
        "import keras"
      ],
      "execution_count": 2,
      "outputs": []
    },
    {
      "cell_type": "code",
      "metadata": {
        "colab": {
          "base_uri": "https://localhost:8080/"
        },
        "id": "3iga8LJjC-nM",
        "outputId": "625e8a1c-999d-4f63-8a22-acaea4ed7350"
      },
      "source": [
        "keras.initializers.Initializer()"
      ],
      "execution_count": 3,
      "outputs": [
        {
          "output_type": "execute_result",
          "data": {
            "text/plain": [
              "<tensorflow.python.keras.initializers.initializers_v2.Initializer at 0x7ff536612cc0>"
            ]
          },
          "metadata": {
            "tags": []
          },
          "execution_count": 3
        }
      ]
    },
    {
      "cell_type": "code",
      "metadata": {
        "colab": {
          "base_uri": "https://localhost:8080/"
        },
        "id": "jlZ0vrQVDHNB",
        "outputId": "4fb1b746-34ac-45f9-8db3-8113e91c2c20"
      },
      "source": [
        "keras.initializers "
      ],
      "execution_count": 4,
      "outputs": [
        {
          "output_type": "execute_result",
          "data": {
            "text/plain": [
              "<module 'keras.initializers' from '/usr/local/lib/python3.6/dist-packages/keras/initializers.py'>"
            ]
          },
          "metadata": {
            "tags": []
          },
          "execution_count": 4
        }
      ]
    },
    {
      "cell_type": "code",
      "metadata": {
        "id": "KI7NxhPTGQXC"
      },
      "source": [
        "initializers=['zeros','ones',Constant(value=5),'RandomNormal','RandomUniform','TruncatedNormal','VarianceScaling','Orthogonal','Identity','lecun_uniform','glorot_normal','glorot_uniform','lecun_normal','he_normal','he_uniform']"
      ],
      "execution_count": 5,
      "outputs": []
    },
    {
      "cell_type": "code",
      "metadata": {
        "id": "s5tfsHTyGaoQ"
      },
      "source": [
        "dp=np.random.seed(1)\r\n",
        "dp"
      ],
      "execution_count": 6,
      "outputs": []
    },
    {
      "cell_type": "code",
      "metadata": {
        "colab": {
          "base_uri": "https://localhost:8080/"
        },
        "id": "JzgaDRzkKS0I",
        "outputId": "f706c5f9-c02e-40d5-fa50-828b86e024c5"
      },
      "source": [
        "for init in initializers:\r\n",
        "  print('init_cnu=',init)\r\n",
        "  model=Sequential([Dense(5,input_dim=2,kernel_initializer=init)])\r\n",
        "\r\n",
        "  for layers in model.layers:\r\n",
        "    weights=layers.get_weights()\r\n",
        "    print(weights)\r\n",
        "    print('\"\"\"\"\"\"\"\"\"\"\"\"\"\"\"\"\"\"')"
      ],
      "execution_count": 7,
      "outputs": [
        {
          "output_type": "stream",
          "text": [
            "init_cnu= zeros\n",
            "[array([[0., 0., 0., 0., 0.],\n",
            "       [0., 0., 0., 0., 0.]], dtype=float32), array([0., 0., 0., 0., 0.], dtype=float32)]\n",
            "\"\"\"\"\"\"\"\"\"\"\"\"\"\"\"\"\"\"\n",
            "init_cnu= ones\n",
            "[array([[1., 1., 1., 1., 1.],\n",
            "       [1., 1., 1., 1., 1.]], dtype=float32), array([0., 0., 0., 0., 0.], dtype=float32)]\n",
            "\"\"\"\"\"\"\"\"\"\"\"\"\"\"\"\"\"\"\n",
            "init_cnu= <tensorflow.python.keras.initializers.initializers_v2.Constant object at 0x7ff5366d0c18>\n",
            "[array([[5., 5., 5., 5., 5.],\n",
            "       [5., 5., 5., 5., 5.]], dtype=float32), array([0., 0., 0., 0., 0.], dtype=float32)]\n",
            "\"\"\"\"\"\"\"\"\"\"\"\"\"\"\"\"\"\"\n",
            "init_cnu= RandomNormal\n",
            "[array([[ 0.09070359,  0.02846124,  0.0091425 ,  0.01263868, -0.04105629],\n",
            "       [-0.05146497, -0.01539851, -0.00889626, -0.01631936,  0.10699467]],\n",
            "      dtype=float32), array([0., 0., 0., 0., 0.], dtype=float32)]\n",
            "\"\"\"\"\"\"\"\"\"\"\"\"\"\"\"\"\"\"\n",
            "init_cnu= RandomUniform\n",
            "[array([[-0.03122225,  0.03771454, -0.00298069,  0.01437457,  0.03142374],\n",
            "       [-0.04218834,  0.00385852, -0.03825627,  0.02349726,  0.00736769]],\n",
            "      dtype=float32), array([0., 0., 0., 0., 0.], dtype=float32)]\n",
            "\"\"\"\"\"\"\"\"\"\"\"\"\"\"\"\"\"\"\n",
            "init_cnu= TruncatedNormal\n",
            "[array([[-0.00877496, -0.08053332,  0.04952518,  0.01187294,  0.06403976],\n",
            "       [ 0.004709  ,  0.07949105, -0.06651246, -0.07409871,  0.03439634]],\n",
            "      dtype=float32), array([0., 0., 0., 0., 0.], dtype=float32)]\n",
            "\"\"\"\"\"\"\"\"\"\"\"\"\"\"\"\"\"\"\n",
            "init_cnu= VarianceScaling\n",
            "[array([[-0.98259056,  0.56466365, -0.40959492, -0.4570968 ,  0.36159065],\n",
            "       [-0.24402638,  0.3371436 , -0.95942473, -0.24923028, -0.19314177]],\n",
            "      dtype=float32), array([0., 0., 0., 0., 0.], dtype=float32)]\n",
            "\"\"\"\"\"\"\"\"\"\"\"\"\"\"\"\"\"\"\n",
            "init_cnu= Orthogonal\n",
            "[array([[ 0.7164508 , -0.09125113,  0.21019155,  0.53721267, -0.381567  ],\n",
            "       [ 0.5205815 ,  0.6396893 ,  0.16495089, -0.49457824,  0.21903445]],\n",
            "      dtype=float32), array([0., 0., 0., 0., 0.], dtype=float32)]\n",
            "\"\"\"\"\"\"\"\"\"\"\"\"\"\"\"\"\"\"\n",
            "init_cnu= Identity\n",
            "[array([[1., 0., 0., 0., 0.],\n",
            "       [0., 1., 0., 0., 0.]], dtype=float32), array([0., 0., 0., 0., 0.], dtype=float32)]\n",
            "\"\"\"\"\"\"\"\"\"\"\"\"\"\"\"\"\"\"\n",
            "init_cnu= lecun_uniform\n",
            "[array([[ 0.39723742,  0.84586036,  0.9481219 , -0.3577301 , -0.19301915],\n",
            "       [-1.0660392 ,  0.1501888 , -0.38433415,  0.5480491 , -0.87821484]],\n",
            "      dtype=float32), array([0., 0., 0., 0., 0.], dtype=float32)]\n",
            "\"\"\"\"\"\"\"\"\"\"\"\"\"\"\"\"\"\"\n",
            "init_cnu= glorot_normal\n",
            "[array([[ 0.3444615 , -0.09787596,  0.09339017,  0.01561155,  0.01827163],\n",
            "       [ 0.30562365,  0.9769447 ,  0.45607007,  0.32805467, -1.1978014 ]],\n",
            "      dtype=float32), array([0., 0., 0., 0., 0.], dtype=float32)]\n",
            "\"\"\"\"\"\"\"\"\"\"\"\"\"\"\"\"\"\"\n",
            "init_cnu= glorot_uniform\n",
            "[array([[-0.48467982, -0.8835562 , -0.17101556,  0.5832652 ,  0.81363845],\n",
            "       [-0.7665511 , -0.1393987 ,  0.2855568 , -0.54487914, -0.21182328]],\n",
            "      dtype=float32), array([0., 0., 0., 0., 0.], dtype=float32)]\n",
            "\"\"\"\"\"\"\"\"\"\"\"\"\"\"\"\"\"\"\n",
            "init_cnu= lecun_normal\n",
            "[array([[ 0.70648974,  0.28635174, -0.67061675,  0.68602693, -0.35193914],\n",
            "       [ 0.84697413, -0.5800397 , -0.18903774, -0.45896462,  0.10626246]],\n",
            "      dtype=float32), array([0., 0., 0., 0., 0.], dtype=float32)]\n",
            "\"\"\"\"\"\"\"\"\"\"\"\"\"\"\"\"\"\"\n",
            "init_cnu= he_normal\n",
            "[array([[-1.3818697 , -0.8417953 ,  0.10147237, -0.27894568,  1.2598271 ],\n",
            "       [ 1.0058826 ,  1.7697093 ,  1.140788  ,  2.2553167 ,  1.1868688 ]],\n",
            "      dtype=float32), array([0., 0., 0., 0., 0.], dtype=float32)]\n",
            "\"\"\"\"\"\"\"\"\"\"\"\"\"\"\"\"\"\"\n",
            "init_cnu= he_uniform\n",
            "[array([[-0.23335934,  0.75893795, -0.26616728, -0.03952253,  0.97392476],\n",
            "       [ 0.5923902 , -1.2067195 ,  1.2325085 , -1.301614  ,  1.5597247 ]],\n",
            "      dtype=float32), array([0., 0., 0., 0., 0.], dtype=float32)]\n",
            "\"\"\"\"\"\"\"\"\"\"\"\"\"\"\"\"\"\"\n"
          ],
          "name": "stdout"
        }
      ]
    },
    {
      "cell_type": "code",
      "metadata": {
        "id": "AkgpbYcWLU5w"
      },
      "source": [
        ""
      ],
      "execution_count": 9,
      "outputs": []
    },
    {
      "cell_type": "code",
      "metadata": {
        "id": "8AvEQowUTWJT"
      },
      "source": [
        ""
      ],
      "execution_count": null,
      "outputs": []
    }
  ]
}