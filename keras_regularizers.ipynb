{
  "nbformat": 4,
  "nbformat_minor": 0,
  "metadata": {
    "colab": {
      "name": "keras_regularizers.ipynb",
      "provenance": [],
      "authorship_tag": "ABX9TyPj2e3scvRWPvWNI2KDhl7S",
      "include_colab_link": true
    },
    "kernelspec": {
      "name": "python3",
      "display_name": "Python 3"
    }
  },
  "cells": [
    {
      "cell_type": "markdown",
      "metadata": {
        "id": "view-in-github",
        "colab_type": "text"
      },
      "source": [
        "<a href=\"https://colab.research.google.com/github/kishuu007/data_science/blob/master/keras_regularizers.ipynb\" target=\"_parent\"><img src=\"https://colab.research.google.com/assets/colab-badge.svg\" alt=\"Open In Colab\"/></a>"
      ]
    },
    {
      "cell_type": "code",
      "metadata": {
        "id": "DMygfOiwS50w"
      },
      "source": [
        "from keras import backend as k\r\n",
        "from tensorflow.keras.models import Sequential\r\n",
        "from tensorflow.keras.layers import Dense,Activation\r\n",
        "from tensorflow.keras import regularizers\r\n",
        "from tensorflow.keras import constraints\r\n",
        "import numpy as np\r\n",
        "import keras"
      ],
      "execution_count": 1,
      "outputs": []
    },
    {
      "cell_type": "code",
      "metadata": {
        "colab": {
          "base_uri": "https://localhost:8080/"
        },
        "id": "tcdrjPXYUxqr",
        "outputId": "82fc6954-e8f6-4797-85b7-8a08edce80f0"
      },
      "source": [
        "# l1 regularizer\r\n",
        "my_reg=regularizers.l1(0.1)\r\n",
        "\r\n",
        "model = Sequential()\r\n",
        "model.add(Dense(512,activation='relu',input_shape=(784,),kernel_regularizer=my_reg))\r\n",
        "model.get_config() # shows the structure of dense layer in detail"
      ],
      "execution_count": 2,
      "outputs": [
        {
          "output_type": "execute_result",
          "data": {
            "text/plain": [
              "{'layers': [{'class_name': 'InputLayer',\n",
              "   'config': {'batch_input_shape': (None, 784),\n",
              "    'dtype': 'float32',\n",
              "    'name': 'dense_input',\n",
              "    'ragged': False,\n",
              "    'sparse': False}},\n",
              "  {'class_name': 'Dense',\n",
              "   'config': {'activation': 'relu',\n",
              "    'activity_regularizer': None,\n",
              "    'batch_input_shape': (None, 784),\n",
              "    'bias_constraint': None,\n",
              "    'bias_initializer': {'class_name': 'Zeros', 'config': {}},\n",
              "    'bias_regularizer': None,\n",
              "    'dtype': 'float32',\n",
              "    'kernel_constraint': None,\n",
              "    'kernel_initializer': {'class_name': 'GlorotUniform',\n",
              "     'config': {'seed': None}},\n",
              "    'kernel_regularizer': {'class_name': 'L1',\n",
              "     'config': {'l1': 0.10000000149011612}},\n",
              "    'name': 'dense',\n",
              "    'trainable': True,\n",
              "    'units': 512,\n",
              "    'use_bias': True}}],\n",
              " 'name': 'sequential'}"
            ]
          },
          "metadata": {
            "tags": []
          },
          "execution_count": 2
        }
      ]
    },
    {
      "cell_type": "code",
      "metadata": {
        "id": "VfjHXjzBWKwf",
        "colab": {
          "base_uri": "https://localhost:8080/"
        },
        "outputId": "8514c59e-f42d-4524-8e92-ccca3d66ecff"
      },
      "source": [
        "# l2 regularizer\r\n",
        "my_reg=regularizers.l2(0.1)\r\n",
        "\r\n",
        "model=Sequential()\r\n",
        "model.add(Dense(512,activation='relu',input_shape=(784,),kernel_regularizer=my_reg))\r\n",
        "model.get_config()"
      ],
      "execution_count": 3,
      "outputs": [
        {
          "output_type": "execute_result",
          "data": {
            "text/plain": [
              "{'layers': [{'class_name': 'InputLayer',\n",
              "   'config': {'batch_input_shape': (None, 784),\n",
              "    'dtype': 'float32',\n",
              "    'name': 'dense_1_input',\n",
              "    'ragged': False,\n",
              "    'sparse': False}},\n",
              "  {'class_name': 'Dense',\n",
              "   'config': {'activation': 'relu',\n",
              "    'activity_regularizer': None,\n",
              "    'batch_input_shape': (None, 784),\n",
              "    'bias_constraint': None,\n",
              "    'bias_initializer': {'class_name': 'Zeros', 'config': {}},\n",
              "    'bias_regularizer': None,\n",
              "    'dtype': 'float32',\n",
              "    'kernel_constraint': None,\n",
              "    'kernel_initializer': {'class_name': 'GlorotUniform',\n",
              "     'config': {'seed': None}},\n",
              "    'kernel_regularizer': {'class_name': 'L2',\n",
              "     'config': {'l2': 0.10000000149011612}},\n",
              "    'name': 'dense_1',\n",
              "    'trainable': True,\n",
              "    'units': 512,\n",
              "    'use_bias': True}}],\n",
              " 'name': 'sequential_1'}"
            ]
          },
          "metadata": {
            "tags": []
          },
          "execution_count": 3
        }
      ]
    },
    {
      "cell_type": "code",
      "metadata": {
        "colab": {
          "base_uri": "https://localhost:8080/"
        },
        "id": "itiuKTwTYaYL",
        "outputId": "b451732e-8b56-4505-daa4-c6c57e130d4f"
      },
      "source": [
        "# l1l2 regularizers\r\n",
        "my_reg=regularizers.l1_l2(l1=0.01,l2=0.01)\r\n",
        "\r\n",
        "model=Sequential()\r\n",
        "model.add(Dense(512,activation='relu',input_shape=(784,),kernel_regularizer=my_reg))\r\n",
        "model.get_config()"
      ],
      "execution_count": 4,
      "outputs": [
        {
          "output_type": "execute_result",
          "data": {
            "text/plain": [
              "{'layers': [{'class_name': 'InputLayer',\n",
              "   'config': {'batch_input_shape': (None, 784),\n",
              "    'dtype': 'float32',\n",
              "    'name': 'dense_2_input',\n",
              "    'ragged': False,\n",
              "    'sparse': False}},\n",
              "  {'class_name': 'Dense',\n",
              "   'config': {'activation': 'relu',\n",
              "    'activity_regularizer': None,\n",
              "    'batch_input_shape': (None, 784),\n",
              "    'bias_constraint': None,\n",
              "    'bias_initializer': {'class_name': 'Zeros', 'config': {}},\n",
              "    'bias_regularizer': None,\n",
              "    'dtype': 'float32',\n",
              "    'kernel_constraint': None,\n",
              "    'kernel_initializer': {'class_name': 'GlorotUniform',\n",
              "     'config': {'seed': None}},\n",
              "    'kernel_regularizer': {'class_name': 'L1L2',\n",
              "     'config': {'l1': 0.009999999776482582, 'l2': 0.009999999776482582}},\n",
              "    'name': 'dense_2',\n",
              "    'trainable': True,\n",
              "    'units': 512,\n",
              "    'use_bias': True}}],\n",
              " 'name': 'sequential_2'}"
            ]
          },
          "metadata": {
            "tags": []
          },
          "execution_count": 4
        }
      ]
    },
    {
      "cell_type": "code",
      "metadata": {
        "id": "bHRxZiMzZI7U"
      },
      "source": [
        ""
      ],
      "execution_count": 4,
      "outputs": []
    }
  ]
}