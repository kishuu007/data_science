{
  "nbformat": 4,
  "nbformat_minor": 0,
  "metadata": {
    "colab": {
      "name": "keras_sequence__text_image_preparation.ipynb",
      "provenance": [],
      "collapsed_sections": [],
      "authorship_tag": "ABX9TyMwgf7rpxv9oNeYHMoA/TiM",
      "include_colab_link": true
    },
    "kernelspec": {
      "name": "python3",
      "display_name": "Python 3"
    }
  },
  "cells": [
    {
      "cell_type": "markdown",
      "metadata": {
        "id": "view-in-github",
        "colab_type": "text"
      },
      "source": [
        "<a href=\"https://colab.research.google.com/github/kishuu007/data_science/blob/master/keras_sequence__text_image_preparation.ipynb\" target=\"_parent\"><img src=\"https://colab.research.google.com/assets/colab-badge.svg\" alt=\"Open In Colab\"/></a>"
      ]
    },
    {
      "cell_type": "code",
      "metadata": {
        "id": "XhF8QLS_6hDS"
      },
      "source": [
        "## sequence preparation\r\n",
        "# pad_seq-->used to pad variable length seq\r\n",
        "seq=[[2,4,5],\r\n",
        "     [4],\r\n",
        "     [1,2,3,6,7,9,5],\r\n",
        "     [6,3]\r\n",
        "     ]\r\n"
      ],
      "execution_count": 1,
      "outputs": []
    },
    {
      "cell_type": "code",
      "metadata": {
        "colab": {
          "base_uri": "https://localhost:8080/"
        },
        "id": "xus5k25c89Wm",
        "outputId": "2d484d0d-7bde-497f-b6f0-8ce2f3ffe371"
      },
      "source": [
        "from tensorflow.keras.preprocessing.sequence import pad_sequences\r\n",
        "padded=pad_sequences(seq,maxlen=None,dtype='int32',padding='pre',truncating='pre',value=0.0)\r\n",
        "padded\r\n"
      ],
      "execution_count": 2,
      "outputs": [
        {
          "output_type": "execute_result",
          "data": {
            "text/plain": [
              "array([[0, 0, 0, 0, 2, 4, 5],\n",
              "       [0, 0, 0, 0, 0, 0, 4],\n",
              "       [1, 2, 3, 6, 7, 9, 5],\n",
              "       [0, 0, 0, 0, 0, 6, 3]], dtype=int32)"
            ]
          },
          "metadata": {
            "tags": []
          },
          "execution_count": 2
        }
      ]
    },
    {
      "cell_type": "code",
      "metadata": {
        "colab": {
          "base_uri": "https://localhost:8080/"
        },
        "id": "7YIv5b_49wCL",
        "outputId": "7e45f171-936f-4dc6-dd38-72a9fd0ea9a6"
      },
      "source": [
        "## skipgram-->tells how data is related to eachother\r\n",
        "from tensorflow.keras.preprocessing.sequence import skipgrams\r\n",
        "skipgrams(padded[0],vocabulary_size=6,window_size=1,negative_samples=1.0,shuffle=False,categorical=False,sampling_table=None,seed=None)\r\n",
        "# 1 means occurs in the same window\r\n",
        "# o represents the neg_samples which takes random words from vocabulary"
      ],
      "execution_count": 3,
      "outputs": [
        {
          "output_type": "execute_result",
          "data": {
            "text/plain": [
              "([[2, 4], [4, 2], [4, 5], [5, 4], [4, 5], [4, 5], [5, 1], [2, 3]],\n",
              " [1, 1, 1, 1, 0, 0, 0, 0])"
            ]
          },
          "metadata": {
            "tags": []
          },
          "execution_count": 3
        }
      ]
    },
    {
      "cell_type": "code",
      "metadata": {
        "colab": {
          "base_uri": "https://localhost:8080/"
        },
        "id": "DreB15DG_LmS",
        "outputId": "e8083e6b-6f53-4296-9440-1bb6d0c729cb"
      },
      "source": [
        "## Time series generator\r\n",
        "# univariate one step problem\r\n",
        "import numpy as np\r\n",
        "from numpy import array\r\n",
        "from tensorflow.keras.preprocessing.sequence import TimeseriesGenerator\r\n",
        "input_data=array([1,2,3,4,5,6,7,8,9,10])\r\n",
        "target=array([0,1,5,27,83,54,28,34,57,78])\r\n",
        " # Time series generator\r\n",
        "generator=TimeseriesGenerator(input_data,target,length=2,batch_size=1)\r\n",
        "# length =2-->2 input data and assign this to a specific time step\r\n",
        "# batch_size=1--> one batch\r\n",
        "#nuber of samples\r\n",
        "print('samples:%d' % len(generator))\r\n",
        "#print each sample\r\n",
        "for i in range(len(generator)):\r\n",
        "  x,y=generator[i]\r\n",
        "  print('%s=>%s' % (x,y))\r\n",
        "len(generator)  "
      ],
      "execution_count": 4,
      "outputs": [
        {
          "output_type": "stream",
          "text": [
            "samples:8\n",
            "[[1 2]]=>[5]\n",
            "[[2 3]]=>[27]\n",
            "[[3 4]]=>[83]\n",
            "[[4 5]]=>[54]\n",
            "[[5 6]]=>[28]\n",
            "[[6 7]]=>[34]\n",
            "[[7 8]]=>[57]\n",
            "[[8 9]]=>[78]\n"
          ],
          "name": "stdout"
        },
        {
          "output_type": "execute_result",
          "data": {
            "text/plain": [
              "8"
            ]
          },
          "metadata": {
            "tags": []
          },
          "execution_count": 4
        }
      ]
    },
    {
      "cell_type": "code",
      "metadata": {
        "id": "6fvqJWSzBWOH"
      },
      "source": [
        "# text preprocessing\r\n",
        "text=\"\"\"keras is a high level neural network API.\r\n",
        "        keras keras\"\"\""
      ],
      "execution_count": 5,
      "outputs": []
    },
    {
      "cell_type": "code",
      "metadata": {
        "colab": {
          "base_uri": "https://localhost:8080/"
        },
        "id": "cpoGTwp782Pq",
        "outputId": "3ae10140-5fda-41d3-f63e-10fe2a77f3ed"
      },
      "source": [
        "from tensorflow.keras.preprocessing.text import text_to_word_sequence\r\n",
        "## splits the data or text  into a list of words(also called as tokens)\r\n",
        "##the processing to splitting text into tokens is called tokenization\r\n",
        "## by default this fun automatically does three things\r\n",
        "# 1.split the words by space 2.filter out punctuation 3.coverts text into lowercase \r\n",
        "word=text_to_word_sequence(text,lower=True,split=' ')   \r\n",
        "print(word)"
      ],
      "execution_count": 6,
      "outputs": [
        {
          "output_type": "stream",
          "text": [
            "['keras', 'is', 'a', 'high', 'level', 'neural', 'network', 'api', 'keras', 'keras']\n"
          ],
          "name": "stdout"
        }
      ]
    },
    {
      "cell_type": "code",
      "metadata": {
        "colab": {
          "base_uri": "https://localhost:8080/"
        },
        "id": "uMoLw8cG-lsW",
        "outputId": "5ca29151-d37d-4bc1-9ed1-c562fea0260c"
      },
      "source": [
        "vocab_size=len(word)\r\n",
        "vocab_size"
      ],
      "execution_count": 7,
      "outputs": [
        {
          "output_type": "execute_result",
          "data": {
            "text/plain": [
              "10"
            ]
          },
          "metadata": {
            "tags": []
          },
          "execution_count": 7
        }
      ]
    },
    {
      "cell_type": "code",
      "metadata": {
        "colab": {
          "base_uri": "https://localhost:8080/"
        },
        "id": "bxb3_M85-v7J",
        "outputId": "8dc901e0-58c3-4447-a89b-d7b31bd00133"
      },
      "source": [
        "text_to_word_sequence(text,filters='#',lower=True,split=' ')\r\n",
        "# filters --> ignores the new line "
      ],
      "execution_count": 8,
      "outputs": [
        {
          "output_type": "execute_result",
          "data": {
            "text/plain": [
              "['keras',\n",
              " 'is',\n",
              " 'a',\n",
              " 'high',\n",
              " 'level',\n",
              " 'neural',\n",
              " 'network',\n",
              " 'api.\\n',\n",
              " 'keras',\n",
              " 'keras']"
            ]
          },
          "metadata": {
            "tags": []
          },
          "execution_count": 8
        }
      ]
    },
    {
      "cell_type": "code",
      "metadata": {
        "colab": {
          "base_uri": "https://localhost:8080/"
        },
        "id": "Jg05G51u_Czg",
        "outputId": "0b363e98-2504-462a-be87-bb8309db6c2e"
      },
      "source": [
        "from tensorflow.keras.preprocessing.text import one_hot\r\n",
        "## one_hot is used to tokenize an integer encoded text doc in one step\r\n",
        "one_hot(text,n=vocab_size*1.25,lower=True,split=' ')\r\n",
        "# n=minimize the no of collisions   "
      ],
      "execution_count": 9,
      "outputs": [
        {
          "output_type": "execute_result",
          "data": {
            "text/plain": [
              "[8.0, 3.5, 9.0, 2.5, 8.5, 11.5, 2.5, 8.0, 8.0, 8.0]"
            ]
          },
          "metadata": {
            "tags": []
          },
          "execution_count": 9
        }
      ]
    },
    {
      "cell_type": "code",
      "metadata": {
        "colab": {
          "base_uri": "https://localhost:8080/"
        },
        "id": "Kfoytlm_BT2D",
        "outputId": "746513ca-6a40-486f-8f88-d5f57f609e70"
      },
      "source": [
        "from tensorflow.keras.preprocessing.text import hashing_trick\r\n",
        "hashing_trick(text,n=vocab_size*1.25,hash_function='md5')"
      ],
      "execution_count": 10,
      "outputs": [
        {
          "output_type": "execute_result",
          "data": {
            "text/plain": [
              "[3.0, 7.0, 6.5, 4.0, 2.5, 5.0, 9.0, 10.0, 3.0, 3.0]"
            ]
          },
          "metadata": {
            "tags": []
          },
          "execution_count": 10
        }
      ]
    },
    {
      "cell_type": "code",
      "metadata": {
        "id": "cweUHwp-BiV7"
      },
      "source": [
        "from tensorflow.keras.preprocessing.text import Tokenizer\r\n",
        "tk=Tokenizer()\r\n",
        "tk.fit_on_texts(word)"
      ],
      "execution_count": 11,
      "outputs": []
    },
    {
      "cell_type": "code",
      "metadata": {
        "colab": {
          "base_uri": "https://localhost:8080/"
        },
        "id": "1aHJcY4wDD4z",
        "outputId": "ec7afd7b-dafa-4611-afa8-707c9556d4c8"
      },
      "source": [
        "print(tk.word_counts)\r\n",
        "print(tk.document_count)\r\n",
        "print(tk.index_word)\r\n",
        "print(tk.word_docs)\r\n",
        "\r\n"
      ],
      "execution_count": 12,
      "outputs": [
        {
          "output_type": "stream",
          "text": [
            "OrderedDict([('keras', 3), ('is', 1), ('a', 1), ('high', 1), ('level', 1), ('neural', 1), ('network', 1), ('api', 1)])\n",
            "10\n",
            "{1: 'keras', 2: 'is', 3: 'a', 4: 'high', 5: 'level', 6: 'neural', 7: 'network', 8: 'api'}\n",
            "defaultdict(<class 'int'>, {'keras': 3, 'is': 1, 'a': 1, 'high': 1, 'level': 1, 'neural': 1, 'network': 1, 'api': 1})\n"
          ],
          "name": "stdout"
        }
      ]
    },
    {
      "cell_type": "code",
      "metadata": {
        "colab": {
          "base_uri": "https://localhost:8080/"
        },
        "id": "hHLkak1yFl0f",
        "outputId": "f949964e-9106-46d5-872b-e6516073c3aa"
      },
      "source": [
        "seq=tk.texts_to_sequences((word))\r\n",
        "seq"
      ],
      "execution_count": 13,
      "outputs": [
        {
          "output_type": "execute_result",
          "data": {
            "text/plain": [
              "[[1], [2], [3], [4], [5], [6], [7], [8], [1], [1]]"
            ]
          },
          "metadata": {
            "tags": []
          },
          "execution_count": 13
        }
      ]
    },
    {
      "cell_type": "code",
      "metadata": {
        "colab": {
          "base_uri": "https://localhost:8080/"
        },
        "id": "ZYb7p_KkGKlX",
        "outputId": "82a291ab-24f3-43fb-eb38-89f18a7d8b77"
      },
      "source": [
        "encoded_docs=tk.texts_to_matrix(word,mode='count')\r\n",
        "encoded_docs"
      ],
      "execution_count": 14,
      "outputs": [
        {
          "output_type": "execute_result",
          "data": {
            "text/plain": [
              "array([[0., 1., 0., 0., 0., 0., 0., 0., 0.],\n",
              "       [0., 0., 1., 0., 0., 0., 0., 0., 0.],\n",
              "       [0., 0., 0., 1., 0., 0., 0., 0., 0.],\n",
              "       [0., 0., 0., 0., 1., 0., 0., 0., 0.],\n",
              "       [0., 0., 0., 0., 0., 1., 0., 0., 0.],\n",
              "       [0., 0., 0., 0., 0., 0., 1., 0., 0.],\n",
              "       [0., 0., 0., 0., 0., 0., 0., 1., 0.],\n",
              "       [0., 0., 0., 0., 0., 0., 0., 0., 1.],\n",
              "       [0., 1., 0., 0., 0., 0., 0., 0., 0.],\n",
              "       [0., 1., 0., 0., 0., 0., 0., 0., 0.]])"
            ]
          },
          "metadata": {
            "tags": []
          },
          "execution_count": 14
        }
      ]
    },
    {
      "cell_type": "code",
      "metadata": {
        "id": "vnXaNiJSGb5y"
      },
      "source": [
        "# Image preprocessing\r\n",
        "from tensorflow.keras.preprocessing.image import ImageDataGenerator\r\n",
        "from tensorflow.keras.utils import to_categorical\r\n",
        "from tensorflow.keras.datasets import mnist\r\n",
        "import numpy as np\r\n",
        "import pandas as pd"
      ],
      "execution_count": 15,
      "outputs": []
    },
    {
      "cell_type": "code",
      "metadata": {
        "id": "FNo7OUyYIsp_"
      },
      "source": [
        "#loading MNIST data set\r\n",
        "(x_train,y_train),(x_test,y_test)=mnist.load_data()"
      ],
      "execution_count": 16,
      "outputs": []
    },
    {
      "cell_type": "code",
      "metadata": {
        "colab": {
          "base_uri": "https://localhost:8080/",
          "height": 268
        },
        "id": "GXB3fnawJW8F",
        "outputId": "68ebe07d-e29b-424f-f4d1-cb6be17da409"
      },
      "source": [
        "from matplotlib import pyplot\r\n",
        "for i in range(0,9):\r\n",
        "  pyplot.subplot(330+1+i)\r\n",
        "  pyplot.imshow(x_train[i],cmap='gray')\r\n",
        "pyplot.show()"
      ],
      "execution_count": 17,
      "outputs": [
        {
          "output_type": "display_data",
          "data": {
            "image/png": "[encoded data removed]",
            "text/plain": [
              "<Figure size 432x288 with 9 Axes>"
            ]
          },
          "metadata": {
            "tags": [],
            "needs_background": "light"
          }
        }
      ]
    },
    {
      "cell_type": "code",
      "metadata": {
        "id": "d5dkpvKmJ0Pu"
      },
      "source": [
        "# reshape to be [samples],[widths],[heights],[channel]\r\n",
        "x_train=x_train.reshape((x_train.shape[0],28,28,1))\r\n",
        "x_test=x_test.reshape((x_test.shape[0],28,28,1))\r\n",
        "# we reshape our trainig and test data so that we will be able to fit those for imagedatagenerator"
      ],
      "execution_count": 18,
      "outputs": []
    },
    {
      "cell_type": "code",
      "metadata": {
        "id": "jfvROQSDLVPB"
      },
      "source": [
        "# covert from int to float--> because default type is float32\r\n",
        "x_train=x_train.astype('float32')\r\n",
        "x_test=x_test.astype('float32')"
      ],
      "execution_count": 19,
      "outputs": []
    },
    {
      "cell_type": "code",
      "metadata": {
        "colab": {
          "base_uri": "https://localhost:8080/"
        },
        "id": "QoyEUsrQNv6L",
        "outputId": "63aad0a3-7495-477f-e7da-4b7ac5c40350"
      },
      "source": [
        "ImageDataGenerator(\r\n",
        "    featurewise_center=False,\r\n",
        "    samplewise_center=False,\r\n",
        "    featurewise_std_normalization=False,\r\n",
        "    samplewise_std_normalization=False,\r\n",
        "    zca_whitening=False,\r\n",
        "    zca_epsilon=1e-06,\r\n",
        "    rotation_range=0,\r\n",
        "    width_shift_range=0.0,\r\n",
        "    height_shift_range=0.0,\r\n",
        "    brightness_range=None,\r\n",
        "    shear_range=0.0,\r\n",
        "    zoom_range=0.0,\r\n",
        "    channel_shift_range=0.0,\r\n",
        "    fill_mode=\"nearest\",\r\n",
        "    cval=0.0,\r\n",
        "    horizontal_flip=False,\r\n",
        "    vertical_flip=False,\r\n",
        "    rescale=None,\r\n",
        "    preprocessing_function=None,\r\n",
        "    data_format=None,\r\n",
        "    validation_split=0.0,\r\n",
        "    dtype=None)"
      ],
      "execution_count": 20,
      "outputs": [
        {
          "output_type": "execute_result",
          "data": {
            "text/plain": [
              "<tensorflow.python.keras.preprocessing.image.ImageDataGenerator at 0x7f7cedc35ba8>"
            ]
          },
          "metadata": {
            "tags": []
          },
          "execution_count": 20
        }
      ]
    },
    {
      "cell_type": "code",
      "metadata": {
        "id": "hEYSKr-hL6fU"
      },
      "source": [
        "# data generation--> generate data and fit  training data on it\r\n",
        "datagen = ImageDataGenerator(horizontal_flip=True,vertical_flip=True)\r\n",
        "# image 1st flips horizontally and then vertically\r\n",
        "# fit train data\r\n",
        "datagen.fit(x_train)"
      ],
      "execution_count": 23,
      "outputs": []
    },
    {
      "cell_type": "code",
      "metadata": {
        "colab": {
          "base_uri": "https://localhost:8080/",
          "height": 268
        },
        "id": "Sxi41wMRR-8r",
        "outputId": "6a14e822-5860-4bd8-a87f-04061ec0157e"
      },
      "source": [
        " # configure batch_size and retrive one batch of images\r\n",
        "for x_batch,y_batch in datagen.flow(x_train,y_train,shuffle=False,batch_size=9):\r\n",
        "  # create a grid of 3*3 images\r\n",
        "   for i in range(0,9):\r\n",
        "       pyplot.subplot(330+1+i)\r\n",
        "       pyplot.imshow(x_batch[i].reshape(28,28),cmap=pyplot.get_cmap('gray'))\r\n",
        "   #show the plot  \r\n",
        "   pyplot.show()\r\n",
        "   break\r\n",
        "   ##fliped image preprocessing is very imp for photograph of object in a scene to have a valid orientation\r\n",
        "   "
      ],
      "execution_count": 26,
      "outputs": [
        {
          "output_type": "display_data",
          "data": {
            "image/png": "[encoded data removed]",
            "text/plain": [
              "<Figure size 432x288 with 9 Axes>"
            ]
          },
          "metadata": {
            "tags": [],
            "needs_background": "light"
          }
        }
      ]
    },
    {
      "cell_type": "code",
      "metadata": {
        "id": "_I7NHHfBSgb9"
      },
      "source": [
        ""
      ],
      "execution_count": null,
      "outputs": []
    }
  ]
}